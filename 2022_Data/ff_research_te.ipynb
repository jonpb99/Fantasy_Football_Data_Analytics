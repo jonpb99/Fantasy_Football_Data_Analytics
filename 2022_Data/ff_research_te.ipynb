{
 "cells": [
  {
   "cell_type": "markdown",
   "id": "4c731b0b",
   "metadata": {},
   "source": [
    "# 2022 TE Data"
   ]
  },
  {
   "cell_type": "code",
   "execution_count": 2,
   "id": "98c3fc37",
   "metadata": {},
   "outputs": [
    {
     "data": {
      "text/html": [
       "<div>\n",
       "<style scoped>\n",
       "    .dataframe tbody tr th:only-of-type {\n",
       "        vertical-align: middle;\n",
       "    }\n",
       "\n",
       "    .dataframe tbody tr th {\n",
       "        vertical-align: top;\n",
       "    }\n",
       "\n",
       "    .dataframe thead th {\n",
       "        text-align: right;\n",
       "    }\n",
       "</style>\n",
       "<table border=\"1\" class=\"dataframe\">\n",
       "  <thead>\n",
       "    <tr style=\"text-align: right;\">\n",
       "      <th></th>\n",
       "      <th>Player</th>\n",
       "      <th>Projected Points</th>\n",
       "      <th>Pre-Season Ranking</th>\n",
       "      <th>Wk1</th>\n",
       "      <th>Wk1_Total</th>\n",
       "      <th>Wk2</th>\n",
       "      <th>Wk2_Total</th>\n",
       "      <th>Wk3</th>\n",
       "      <th>Wk3_Total</th>\n",
       "      <th>Wk4</th>\n",
       "      <th>...</th>\n",
       "      <th>Wk15_Total</th>\n",
       "      <th>Wk16</th>\n",
       "      <th>Wk16_Total</th>\n",
       "      <th>Wk17</th>\n",
       "      <th>Wk17_Total</th>\n",
       "      <th>Wk18</th>\n",
       "      <th>Wk18_Total</th>\n",
       "      <th>Total_Yards</th>\n",
       "      <th>Total_TD</th>\n",
       "      <th>Season_Rank</th>\n",
       "    </tr>\n",
       "  </thead>\n",
       "  <tbody>\n",
       "    <tr>\n",
       "      <th>0</th>\n",
       "      <td>Travis Kelce</td>\n",
       "      <td>242.7</td>\n",
       "      <td>1</td>\n",
       "      <td>22.1</td>\n",
       "      <td>22.1</td>\n",
       "      <td>7.6</td>\n",
       "      <td>29.7</td>\n",
       "      <td>15.9</td>\n",
       "      <td>45.6</td>\n",
       "      <td>19.7</td>\n",
       "      <td>...</td>\n",
       "      <td>232.4</td>\n",
       "      <td>14.3</td>\n",
       "      <td>246.7</td>\n",
       "      <td>7.8</td>\n",
       "      <td>254.5</td>\n",
       "      <td>6.8</td>\n",
       "      <td>261.3</td>\n",
       "      <td>1338</td>\n",
       "      <td>12</td>\n",
       "      <td>1</td>\n",
       "    </tr>\n",
       "    <tr>\n",
       "      <th>1</th>\n",
       "      <td>Mark Andrews</td>\n",
       "      <td>NaN</td>\n",
       "      <td>2</td>\n",
       "      <td>7.7</td>\n",
       "      <td>7.7</td>\n",
       "      <td>21.2</td>\n",
       "      <td>28.9</td>\n",
       "      <td>24.9</td>\n",
       "      <td>53.8</td>\n",
       "      <td>2.5</td>\n",
       "      <td>...</td>\n",
       "      <td>133.5</td>\n",
       "      <td>6.0</td>\n",
       "      <td>139.5</td>\n",
       "      <td>14.5</td>\n",
       "      <td>154.0</td>\n",
       "      <td>0.0</td>\n",
       "      <td>154.0</td>\n",
       "      <td>847</td>\n",
       "      <td>5</td>\n",
       "      <td>4</td>\n",
       "    </tr>\n",
       "    <tr>\n",
       "      <th>2</th>\n",
       "      <td>Kyle Pitts</td>\n",
       "      <td>NaN</td>\n",
       "      <td>3</td>\n",
       "      <td>2.9</td>\n",
       "      <td>2.9</td>\n",
       "      <td>2.9</td>\n",
       "      <td>5.8</td>\n",
       "      <td>11.2</td>\n",
       "      <td>17.0</td>\n",
       "      <td>3.0</td>\n",
       "      <td>...</td>\n",
       "      <td>61.6</td>\n",
       "      <td>0.0</td>\n",
       "      <td>61.6</td>\n",
       "      <td>0.0</td>\n",
       "      <td>61.6</td>\n",
       "      <td>0.0</td>\n",
       "      <td>61.6</td>\n",
       "      <td>356</td>\n",
       "      <td>2</td>\n",
       "      <td>34</td>\n",
       "    </tr>\n",
       "    <tr>\n",
       "      <th>3</th>\n",
       "      <td>George Kittle</td>\n",
       "      <td>NaN</td>\n",
       "      <td>4</td>\n",
       "      <td>0.0</td>\n",
       "      <td>0.0</td>\n",
       "      <td>0.0</td>\n",
       "      <td>0.0</td>\n",
       "      <td>4.8</td>\n",
       "      <td>4.8</td>\n",
       "      <td>3.4</td>\n",
       "      <td>...</td>\n",
       "      <td>116.3</td>\n",
       "      <td>27.0</td>\n",
       "      <td>143.3</td>\n",
       "      <td>10.3</td>\n",
       "      <td>153.6</td>\n",
       "      <td>16.9</td>\n",
       "      <td>170.5</td>\n",
       "      <td>765</td>\n",
       "      <td>11</td>\n",
       "      <td>3</td>\n",
       "    </tr>\n",
       "    <tr>\n",
       "      <th>4</th>\n",
       "      <td>Darren Waller</td>\n",
       "      <td>NaN</td>\n",
       "      <td>5</td>\n",
       "      <td>9.9</td>\n",
       "      <td>9.9</td>\n",
       "      <td>14.0</td>\n",
       "      <td>23.9</td>\n",
       "      <td>3.7</td>\n",
       "      <td>27.6</td>\n",
       "      <td>3.9</td>\n",
       "      <td>...</td>\n",
       "      <td>43.8</td>\n",
       "      <td>7.8</td>\n",
       "      <td>51.6</td>\n",
       "      <td>14.7</td>\n",
       "      <td>66.3</td>\n",
       "      <td>4.5</td>\n",
       "      <td>70.8</td>\n",
       "      <td>388</td>\n",
       "      <td>3</td>\n",
       "      <td>28</td>\n",
       "    </tr>\n",
       "  </tbody>\n",
       "</table>\n",
       "<p>5 rows × 42 columns</p>\n",
       "</div>"
      ],
      "text/plain": [
       "          Player  Projected Points  Pre-Season Ranking   Wk1  Wk1_Total   Wk2  \\\n",
       "0   Travis Kelce             242.7                   1  22.1       22.1   7.6   \n",
       "1   Mark Andrews               NaN                   2   7.7        7.7  21.2   \n",
       "2     Kyle Pitts               NaN                   3   2.9        2.9   2.9   \n",
       "3  George Kittle               NaN                   4   0.0        0.0   0.0   \n",
       "4  Darren Waller               NaN                   5   9.9        9.9  14.0   \n",
       "\n",
       "   Wk2_Total   Wk3  Wk3_Total   Wk4  ...  Wk15_Total  Wk16  Wk16_Total  Wk17  \\\n",
       "0       29.7  15.9       45.6  19.7  ...       232.4  14.3       246.7   7.8   \n",
       "1       28.9  24.9       53.8   2.5  ...       133.5   6.0       139.5  14.5   \n",
       "2        5.8  11.2       17.0   3.0  ...        61.6   0.0        61.6   0.0   \n",
       "3        0.0   4.8        4.8   3.4  ...       116.3  27.0       143.3  10.3   \n",
       "4       23.9   3.7       27.6   3.9  ...        43.8   7.8        51.6  14.7   \n",
       "\n",
       "   Wk17_Total  Wk18  Wk18_Total  Total_Yards  Total_TD  Season_Rank  \n",
       "0       254.5   6.8       261.3         1338        12            1  \n",
       "1       154.0   0.0       154.0          847         5            4  \n",
       "2        61.6   0.0        61.6          356         2           34  \n",
       "3       153.6  16.9       170.5          765        11            3  \n",
       "4        66.3   4.5        70.8          388         3           28  \n",
       "\n",
       "[5 rows x 42 columns]"
      ]
     },
     "execution_count": 2,
     "metadata": {},
     "output_type": "execute_result"
    }
   ],
   "source": [
    "import numpy as np\n",
    "import pandas as pd\n",
    "import re\n",
    "import seaborn as sns\n",
    "import matplotlib.pyplot as plt\n",
    "\n",
    "df = pd.read_csv('https://raw.githubusercontent.com/jonpb99/Fantasy_Football_Data_Analytics/main/2022_Data/ff_research_te.csv')\n",
    "df.head()"
   ]
  },
  {
   "cell_type": "code",
   "execution_count": 3,
   "id": "7e7d1e1b",
   "metadata": {},
   "outputs": [
    {
     "data": {
      "text/html": [
       "<div>\n",
       "<style scoped>\n",
       "    .dataframe tbody tr th:only-of-type {\n",
       "        vertical-align: middle;\n",
       "    }\n",
       "\n",
       "    .dataframe tbody tr th {\n",
       "        vertical-align: top;\n",
       "    }\n",
       "\n",
       "    .dataframe thead th {\n",
       "        text-align: right;\n",
       "    }\n",
       "</style>\n",
       "<table border=\"1\" class=\"dataframe\">\n",
       "  <thead>\n",
       "    <tr style=\"text-align: right;\">\n",
       "      <th></th>\n",
       "      <th>Player</th>\n",
       "      <th>Projected Points</th>\n",
       "      <th>Pre-Season Ranking</th>\n",
       "      <th>Wk1</th>\n",
       "      <th>Wk1_Total</th>\n",
       "      <th>Wk2</th>\n",
       "      <th>Wk2_Total</th>\n",
       "      <th>Wk3</th>\n",
       "      <th>Wk3_Total</th>\n",
       "      <th>Wk4</th>\n",
       "      <th>...</th>\n",
       "      <th>Wk15_Total</th>\n",
       "      <th>Wk16</th>\n",
       "      <th>Wk16_Total</th>\n",
       "      <th>Wk17</th>\n",
       "      <th>Wk17_Total</th>\n",
       "      <th>Wk18</th>\n",
       "      <th>Wk18_Total</th>\n",
       "      <th>Total_Yards</th>\n",
       "      <th>Total_TD</th>\n",
       "      <th>Season_Rank</th>\n",
       "    </tr>\n",
       "  </thead>\n",
       "  <tbody>\n",
       "    <tr>\n",
       "      <th>0</th>\n",
       "      <td>Travis Kelce</td>\n",
       "      <td>242.7</td>\n",
       "      <td>1</td>\n",
       "      <td>22.1</td>\n",
       "      <td>22.1</td>\n",
       "      <td>7.6</td>\n",
       "      <td>29.7</td>\n",
       "      <td>15.9</td>\n",
       "      <td>45.6</td>\n",
       "      <td>19.7</td>\n",
       "      <td>...</td>\n",
       "      <td>232.4</td>\n",
       "      <td>14.3</td>\n",
       "      <td>246.7</td>\n",
       "      <td>7.8</td>\n",
       "      <td>254.5</td>\n",
       "      <td>6.8</td>\n",
       "      <td>261.3</td>\n",
       "      <td>1338</td>\n",
       "      <td>12</td>\n",
       "      <td>1</td>\n",
       "    </tr>\n",
       "    <tr>\n",
       "      <th>1</th>\n",
       "      <td>Mark Andrews</td>\n",
       "      <td>0.0</td>\n",
       "      <td>2</td>\n",
       "      <td>7.7</td>\n",
       "      <td>7.7</td>\n",
       "      <td>21.2</td>\n",
       "      <td>28.9</td>\n",
       "      <td>24.9</td>\n",
       "      <td>53.8</td>\n",
       "      <td>2.5</td>\n",
       "      <td>...</td>\n",
       "      <td>133.5</td>\n",
       "      <td>6.0</td>\n",
       "      <td>139.5</td>\n",
       "      <td>14.5</td>\n",
       "      <td>154.0</td>\n",
       "      <td>0.0</td>\n",
       "      <td>154.0</td>\n",
       "      <td>847</td>\n",
       "      <td>5</td>\n",
       "      <td>4</td>\n",
       "    </tr>\n",
       "    <tr>\n",
       "      <th>2</th>\n",
       "      <td>Kyle Pitts</td>\n",
       "      <td>0.0</td>\n",
       "      <td>3</td>\n",
       "      <td>2.9</td>\n",
       "      <td>2.9</td>\n",
       "      <td>2.9</td>\n",
       "      <td>5.8</td>\n",
       "      <td>11.2</td>\n",
       "      <td>17.0</td>\n",
       "      <td>3.0</td>\n",
       "      <td>...</td>\n",
       "      <td>61.6</td>\n",
       "      <td>0.0</td>\n",
       "      <td>61.6</td>\n",
       "      <td>0.0</td>\n",
       "      <td>61.6</td>\n",
       "      <td>0.0</td>\n",
       "      <td>61.6</td>\n",
       "      <td>356</td>\n",
       "      <td>2</td>\n",
       "      <td>34</td>\n",
       "    </tr>\n",
       "    <tr>\n",
       "      <th>3</th>\n",
       "      <td>George Kittle</td>\n",
       "      <td>0.0</td>\n",
       "      <td>4</td>\n",
       "      <td>0.0</td>\n",
       "      <td>0.0</td>\n",
       "      <td>0.0</td>\n",
       "      <td>0.0</td>\n",
       "      <td>4.8</td>\n",
       "      <td>4.8</td>\n",
       "      <td>3.4</td>\n",
       "      <td>...</td>\n",
       "      <td>116.3</td>\n",
       "      <td>27.0</td>\n",
       "      <td>143.3</td>\n",
       "      <td>10.3</td>\n",
       "      <td>153.6</td>\n",
       "      <td>16.9</td>\n",
       "      <td>170.5</td>\n",
       "      <td>765</td>\n",
       "      <td>11</td>\n",
       "      <td>3</td>\n",
       "    </tr>\n",
       "    <tr>\n",
       "      <th>4</th>\n",
       "      <td>Darren Waller</td>\n",
       "      <td>0.0</td>\n",
       "      <td>5</td>\n",
       "      <td>9.9</td>\n",
       "      <td>9.9</td>\n",
       "      <td>14.0</td>\n",
       "      <td>23.9</td>\n",
       "      <td>3.7</td>\n",
       "      <td>27.6</td>\n",
       "      <td>3.9</td>\n",
       "      <td>...</td>\n",
       "      <td>43.8</td>\n",
       "      <td>7.8</td>\n",
       "      <td>51.6</td>\n",
       "      <td>14.7</td>\n",
       "      <td>66.3</td>\n",
       "      <td>4.5</td>\n",
       "      <td>70.8</td>\n",
       "      <td>388</td>\n",
       "      <td>3</td>\n",
       "      <td>28</td>\n",
       "    </tr>\n",
       "  </tbody>\n",
       "</table>\n",
       "<p>5 rows × 42 columns</p>\n",
       "</div>"
      ],
      "text/plain": [
       "          Player  Projected Points  Pre-Season Ranking   Wk1  Wk1_Total   Wk2  \\\n",
       "0   Travis Kelce             242.7                   1  22.1       22.1   7.6   \n",
       "1   Mark Andrews               0.0                   2   7.7        7.7  21.2   \n",
       "2     Kyle Pitts               0.0                   3   2.9        2.9   2.9   \n",
       "3  George Kittle               0.0                   4   0.0        0.0   0.0   \n",
       "4  Darren Waller               0.0                   5   9.9        9.9  14.0   \n",
       "\n",
       "   Wk2_Total   Wk3  Wk3_Total   Wk4  ...  Wk15_Total  Wk16  Wk16_Total  Wk17  \\\n",
       "0       29.7  15.9       45.6  19.7  ...       232.4  14.3       246.7   7.8   \n",
       "1       28.9  24.9       53.8   2.5  ...       133.5   6.0       139.5  14.5   \n",
       "2        5.8  11.2       17.0   3.0  ...        61.6   0.0        61.6   0.0   \n",
       "3        0.0   4.8        4.8   3.4  ...       116.3  27.0       143.3  10.3   \n",
       "4       23.9   3.7       27.6   3.9  ...        43.8   7.8        51.6  14.7   \n",
       "\n",
       "   Wk17_Total  Wk18  Wk18_Total  Total_Yards  Total_TD  Season_Rank  \n",
       "0       254.5   6.8       261.3         1338        12            1  \n",
       "1       154.0   0.0       154.0          847         5            4  \n",
       "2        61.6   0.0        61.6          356         2           34  \n",
       "3       153.6  16.9       170.5          765        11            3  \n",
       "4        66.3   4.5        70.8          388         3           28  \n",
       "\n",
       "[5 rows x 42 columns]"
      ]
     },
     "execution_count": 3,
     "metadata": {},
     "output_type": "execute_result"
    }
   ],
   "source": [
    "df.fillna(0, inplace = True)\n",
    "df.head()"
   ]
  },
  {
   "cell_type": "code",
   "execution_count": 4,
   "id": "0454d931",
   "metadata": {},
   "outputs": [
    {
     "data": {
      "text/plain": [
       "<AxesSubplot:xlabel='Pre-Season Ranking', ylabel='Wk18_Total'>"
      ]
     },
     "execution_count": 4,
     "metadata": {},
     "output_type": "execute_result"
    },
    {
     "data": {
      "image/png": "[encoded data removed]",
      "text/plain": [
       "<Figure size 432x288 with 1 Axes>"
      ]
     },
     "metadata": {
      "needs_background": "light"
     },
     "output_type": "display_data"
    }
   ],
   "source": [
    "sns.boxplot(x='Pre-Season Ranking',y='Wk18_Total', data=df)"
   ]
  },
  {
   "cell_type": "code",
   "execution_count": 5,
   "id": "00e47e11",
   "metadata": {},
   "outputs": [
    {
     "data": {
      "text/plain": [
       "<AxesSubplot:xlabel='Pre-Season Ranking', ylabel='Wk18_Total'>"
      ]
     },
     "execution_count": 5,
     "metadata": {},
     "output_type": "execute_result"
    },
    {
     "data": {
      "image/png": "[encoded data removed]",
      "text/plain": [
       "<Figure size 432x288 with 1 Axes>"
      ]
     },
     "metadata": {
      "needs_background": "light"
     },
     "output_type": "display_data"
    }
   ],
   "source": [
    "sns.scatterplot(x = \"Pre-Season Ranking\", y = \"Wk18_Total\", data = df)"
   ]
  },
  {
   "cell_type": "code",
   "execution_count": 6,
   "id": "6009c5fe",
   "metadata": {},
   "outputs": [
    {
     "data": {
      "text/plain": [
       "<AxesSubplot:xlabel='Pre-Season Ranking', ylabel='Total_TD'>"
      ]
     },
     "execution_count": 6,
     "metadata": {},
     "output_type": "execute_result"
    },
    {
     "data": {
      "image/png": "[encoded data removed]",
      "text/plain": [
       "<Figure size 432x288 with 1 Axes>"
      ]
     },
     "metadata": {
      "needs_background": "light"
     },
     "output_type": "display_data"
    }
   ],
   "source": [
    "sns.scatterplot(x = \"Pre-Season Ranking\", y = \"Total_TD\", data = df)"
   ]
  },
  {
   "cell_type": "code",
   "execution_count": 7,
   "id": "b29949dd",
   "metadata": {},
   "outputs": [
    {
     "data": {
      "text/plain": [
       "<AxesSubplot:xlabel='Total_TD', ylabel='count'>"
      ]
     },
     "execution_count": 7,
     "metadata": {},
     "output_type": "execute_result"
    },
    {
     "data": {
      "image/png": "[encoded data removed]",
      "text/plain": [
       "<Figure size 432x288 with 1 Axes>"
      ]
     },
     "metadata": {
      "needs_background": "light"
     },
     "output_type": "display_data"
    }
   ],
   "source": [
    "sns.countplot(x='Total_TD',data=df)"
   ]
  },
  {
   "cell_type": "code",
   "execution_count": 8,
   "id": "dc015666",
   "metadata": {},
   "outputs": [
    {
     "data": {
      "text/html": [
       "<div>\n",
       "<style scoped>\n",
       "    .dataframe tbody tr th:only-of-type {\n",
       "        vertical-align: middle;\n",
       "    }\n",
       "\n",
       "    .dataframe tbody tr th {\n",
       "        vertical-align: top;\n",
       "    }\n",
       "\n",
       "    .dataframe thead th {\n",
       "        text-align: right;\n",
       "    }\n",
       "</style>\n",
       "<table border=\"1\" class=\"dataframe\">\n",
       "  <thead>\n",
       "    <tr style=\"text-align: right;\">\n",
       "      <th></th>\n",
       "      <th>NAME</th>\n",
       "      <th>RTG</th>\n",
       "      <th>TEAM</th>\n",
       "      <th>DEP</th>\n",
       "      <th>BYE</th>\n",
       "      <th>GP</th>\n",
       "      <th>FPTS</th>\n",
       "      <th>SNAP</th>\n",
       "      <th>TOUCH</th>\n",
       "      <th>TGT</th>\n",
       "      <th>...</th>\n",
       "      <th>REC</th>\n",
       "      <th>REC YDS</th>\n",
       "      <th>REC TD</th>\n",
       "      <th>YDS/REC</th>\n",
       "      <th>CATCH %</th>\n",
       "      <th>ATT</th>\n",
       "      <th>YDS</th>\n",
       "      <th>TD</th>\n",
       "      <th>YDS/ATT</th>\n",
       "      <th>WEEK</th>\n",
       "    </tr>\n",
       "  </thead>\n",
       "  <tbody>\n",
       "    <tr>\n",
       "      <th>0</th>\n",
       "      <td>Travis Kelce</td>\n",
       "      <td>98</td>\n",
       "      <td>KC</td>\n",
       "      <td>1.0</td>\n",
       "      <td>8</td>\n",
       "      <td>1</td>\n",
       "      <td>22.1</td>\n",
       "      <td>2.0</td>\n",
       "      <td>0.4</td>\n",
       "      <td>0.4</td>\n",
       "      <td>...</td>\n",
       "      <td>8</td>\n",
       "      <td>121</td>\n",
       "      <td>1</td>\n",
       "      <td>15.1</td>\n",
       "      <td>88.9</td>\n",
       "      <td>0</td>\n",
       "      <td>0</td>\n",
       "      <td>0</td>\n",
       "      <td>0.0</td>\n",
       "      <td>1</td>\n",
       "    </tr>\n",
       "    <tr>\n",
       "      <th>1</th>\n",
       "      <td>Darren Waller</td>\n",
       "      <td>86</td>\n",
       "      <td>LV</td>\n",
       "      <td>1.0</td>\n",
       "      <td>6</td>\n",
       "      <td>1</td>\n",
       "      <td>9.9</td>\n",
       "      <td>4.9</td>\n",
       "      <td>0.4</td>\n",
       "      <td>0.6</td>\n",
       "      <td>...</td>\n",
       "      <td>4</td>\n",
       "      <td>79</td>\n",
       "      <td>0</td>\n",
       "      <td>19.8</td>\n",
       "      <td>66.7</td>\n",
       "      <td>0</td>\n",
       "      <td>0</td>\n",
       "      <td>0</td>\n",
       "      <td>0.0</td>\n",
       "      <td>1</td>\n",
       "    </tr>\n",
       "    <tr>\n",
       "      <th>2</th>\n",
       "      <td>Dalton Schultz</td>\n",
       "      <td>84</td>\n",
       "      <td>DAL</td>\n",
       "      <td>1.0</td>\n",
       "      <td>9</td>\n",
       "      <td>1</td>\n",
       "      <td>9.7</td>\n",
       "      <td>7.1</td>\n",
       "      <td>0.7</td>\n",
       "      <td>0.9</td>\n",
       "      <td>...</td>\n",
       "      <td>7</td>\n",
       "      <td>62</td>\n",
       "      <td>0</td>\n",
       "      <td>8.9</td>\n",
       "      <td>77.8</td>\n",
       "      <td>0</td>\n",
       "      <td>0</td>\n",
       "      <td>0</td>\n",
       "      <td>0.0</td>\n",
       "      <td>1</td>\n",
       "    </tr>\n",
       "    <tr>\n",
       "      <th>3</th>\n",
       "      <td>Mark Andrews</td>\n",
       "      <td>94</td>\n",
       "      <td>BAL</td>\n",
       "      <td>1.0</td>\n",
       "      <td>10</td>\n",
       "      <td>1</td>\n",
       "      <td>7.7</td>\n",
       "      <td>6.1</td>\n",
       "      <td>0.6</td>\n",
       "      <td>0.9</td>\n",
       "      <td>...</td>\n",
       "      <td>5</td>\n",
       "      <td>52</td>\n",
       "      <td>0</td>\n",
       "      <td>10.4</td>\n",
       "      <td>71.4</td>\n",
       "      <td>0</td>\n",
       "      <td>0</td>\n",
       "      <td>0</td>\n",
       "      <td>0.0</td>\n",
       "      <td>1</td>\n",
       "    </tr>\n",
       "    <tr>\n",
       "      <th>4</th>\n",
       "      <td>Dallas Goedert</td>\n",
       "      <td>89</td>\n",
       "      <td>PHI</td>\n",
       "      <td>1.0</td>\n",
       "      <td>7</td>\n",
       "      <td>1</td>\n",
       "      <td>7.5</td>\n",
       "      <td>9.5</td>\n",
       "      <td>0.4</td>\n",
       "      <td>0.5</td>\n",
       "      <td>...</td>\n",
       "      <td>3</td>\n",
       "      <td>60</td>\n",
       "      <td>0</td>\n",
       "      <td>20.0</td>\n",
       "      <td>75.0</td>\n",
       "      <td>0</td>\n",
       "      <td>0</td>\n",
       "      <td>0</td>\n",
       "      <td>0.0</td>\n",
       "      <td>1</td>\n",
       "    </tr>\n",
       "  </tbody>\n",
       "</table>\n",
       "<p>5 rows × 21 columns</p>\n",
       "</div>"
      ],
      "text/plain": [
       "             NAME  RTG TEAM  DEP  BYE  GP  FPTS  SNAP  TOUCH  TGT  ...  REC  \\\n",
       "0    Travis Kelce   98   KC  1.0    8   1  22.1   2.0    0.4  0.4  ...    8   \n",
       "1   Darren Waller   86   LV  1.0    6   1   9.9   4.9    0.4  0.6  ...    4   \n",
       "2  Dalton Schultz   84  DAL  1.0    9   1   9.7   7.1    0.7  0.9  ...    7   \n",
       "3    Mark Andrews   94  BAL  1.0   10   1   7.7   6.1    0.6  0.9  ...    5   \n",
       "4  Dallas Goedert   89  PHI  1.0    7   1   7.5   9.5    0.4  0.5  ...    3   \n",
       "\n",
       "   REC YDS  REC TD  YDS/REC  CATCH %  ATT  YDS  TD  YDS/ATT  WEEK  \n",
       "0      121       1     15.1     88.9    0    0   0      0.0     1  \n",
       "1       79       0     19.8     66.7    0    0   0      0.0     1  \n",
       "2       62       0      8.9     77.8    0    0   0      0.0     1  \n",
       "3       52       0     10.4     71.4    0    0   0      0.0     1  \n",
       "4       60       0     20.0     75.0    0    0   0      0.0     1  \n",
       "\n",
       "[5 rows x 21 columns]"
      ]
     },
     "execution_count": 8,
     "metadata": {},
     "output_type": "execute_result"
    }
   ],
   "source": [
    "df2 = pd.read_csv('https://raw.githubusercontent.com/jonpb99/Fantasy_Football_Data_Analytics/main/2022_Data/ff_research_te2.csv')\n",
    "df2.head()"
   ]
  },
  {
   "cell_type": "code",
   "execution_count": 9,
   "id": "639fe02e",
   "metadata": {},
   "outputs": [
    {
     "name": "stdout",
     "output_type": "stream",
     "text": [
      "<class 'pandas.core.frame.DataFrame'>\n",
      "RangeIndex: 128 entries, 0 to 127\n",
      "Data columns (total 21 columns):\n",
      " #   Column   Non-Null Count  Dtype  \n",
      "---  ------   --------------  -----  \n",
      " 0   NAME     128 non-null    object \n",
      " 1   RTG      128 non-null    int64  \n",
      " 2   TEAM     128 non-null    object \n",
      " 3   DEP      127 non-null    float64\n",
      " 4   BYE      128 non-null    int64  \n",
      " 5   GP       128 non-null    int64  \n",
      " 6   FPTS     128 non-null    float64\n",
      " 7   SNAP     128 non-null    float64\n",
      " 8   TOUCH    128 non-null    float64\n",
      " 9   TGT      128 non-null    float64\n",
      " 10  TGTS     128 non-null    int64  \n",
      " 11  REC      128 non-null    int64  \n",
      " 12  REC YDS  128 non-null    int64  \n",
      " 13  REC TD   128 non-null    int64  \n",
      " 14  YDS/REC  128 non-null    float64\n",
      " 15  CATCH %  128 non-null    float64\n",
      " 16  ATT      128 non-null    int64  \n",
      " 17  YDS      128 non-null    int64  \n",
      " 18  TD       128 non-null    int64  \n",
      " 19  YDS/ATT  128 non-null    float64\n",
      " 20  WEEK     128 non-null    int64  \n",
      "dtypes: float64(8), int64(11), object(2)\n",
      "memory usage: 21.1+ KB\n"
     ]
    }
   ],
   "source": [
    "df2.info()"
   ]
  },
  {
   "cell_type": "code",
   "execution_count": 10,
   "id": "a8d61bf6",
   "metadata": {},
   "outputs": [
    {
     "data": {
      "text/plain": [
       "<AxesSubplot:xlabel='TEAM', ylabel='count'>"
      ]
     },
     "execution_count": 10,
     "metadata": {},
     "output_type": "execute_result"
    },
    {
     "data": {
      "image/png": "[encoded data removed]",
      "text/plain": [
       "<Figure size 432x288 with 1 Axes>"
      ]
     },
     "metadata": {
      "needs_background": "light"
     },
     "output_type": "display_data"
    }
   ],
   "source": [
    "sns.countplot(x=\"TEAM\", data=df2) #games played"
   ]
  },
  {
   "cell_type": "code",
   "execution_count": 11,
   "id": "41f48ada",
   "metadata": {},
   "outputs": [
    {
     "data": {
      "text/plain": [
       "<AxesSubplot:xlabel='TEAM', ylabel='REC YDS'>"
      ]
     },
     "execution_count": 11,
     "metadata": {},
     "output_type": "execute_result"
    },
    {
     "data": {
      "image/png": "[encoded data removed]",
      "text/plain": [
       "<Figure size 432x288 with 1 Axes>"
      ]
     },
     "metadata": {
      "needs_background": "light"
     },
     "output_type": "display_data"
    }
   ],
   "source": [
    "sns.boxplot(x='TEAM',y='REC YDS', data=df2)"
   ]
  },
  {
   "cell_type": "code",
   "execution_count": 12,
   "id": "ca64cb0e",
   "metadata": {},
   "outputs": [
    {
     "data": {
      "text/plain": [
       "<AxesSubplot:xlabel='TEAM', ylabel='YDS/REC'>"
      ]
     },
     "execution_count": 12,
     "metadata": {},
     "output_type": "execute_result"
    },
    {
     "data": {
      "image/png": "[encoded data removed]",
      "text/plain": [
       "<Figure size 432x288 with 1 Axes>"
      ]
     },
     "metadata": {
      "needs_background": "light"
     },
     "output_type": "display_data"
    }
   ],
   "source": [
    "sns.boxplot(x='TEAM',y='YDS/REC', data=df2)"
   ]
  },
  {
   "cell_type": "code",
   "execution_count": 13,
   "id": "d96b9310",
   "metadata": {},
   "outputs": [
    {
     "data": {
      "text/plain": [
       "<AxesSubplot:xlabel='TEAM', ylabel='FPTS'>"
      ]
     },
     "execution_count": 13,
     "metadata": {},
     "output_type": "execute_result"
    },
    {
     "data": {
      "image/png": "[encoded data removed]",
      "text/plain": [
       "<Figure size 432x288 with 1 Axes>"
      ]
     },
     "metadata": {
      "needs_background": "light"
     },
     "output_type": "display_data"
    }
   ],
   "source": [
    "sns.boxplot(x='TEAM',y='FPTS', data=df2)"
   ]
  },
  {
   "cell_type": "code",
   "execution_count": 14,
   "id": "a13d301c",
   "metadata": {},
   "outputs": [
    {
     "data": {
      "text/plain": [
       "<AxesSubplot:xlabel='TEAM', ylabel='TGTS'>"
      ]
     },
     "execution_count": 14,
     "metadata": {},
     "output_type": "execute_result"
    },
    {
     "data": {
      "image/png": "[encoded data removed]",
      "text/plain": [
       "<Figure size 432x288 with 1 Axes>"
      ]
     },
     "metadata": {
      "needs_background": "light"
     },
     "output_type": "display_data"
    }
   ],
   "source": [
    "sns.boxplot(x='TEAM',y='TGTS', data=df2)"
   ]
  },
  {
   "cell_type": "code",
   "execution_count": 15,
   "id": "18b921fb",
   "metadata": {},
   "outputs": [
    {
     "data": {
      "text/plain": [
       "<AxesSubplot:xlabel='TEAM', ylabel='REC'>"
      ]
     },
     "execution_count": 15,
     "metadata": {},
     "output_type": "execute_result"
    },
    {
     "data": {
      "image/png": "[encoded data removed]",
      "text/plain": [
       "<Figure size 432x288 with 1 Axes>"
      ]
     },
     "metadata": {
      "needs_background": "light"
     },
     "output_type": "display_data"
    }
   ],
   "source": [
    "sns.boxplot(x='TEAM',y='REC', data=df2)"
   ]
  },
  {
   "cell_type": "code",
   "execution_count": 16,
   "id": "b6203740",
   "metadata": {},
   "outputs": [
    {
     "data": {
      "text/plain": [
       "<AxesSubplot:xlabel='REC YDS', ylabel='FPTS'>"
      ]
     },
     "execution_count": 16,
     "metadata": {},
     "output_type": "execute_result"
    },
    {
     "data": {
      "image/png": "[encoded data removed]",
      "text/plain": [
       "<Figure size 432x288 with 1 Axes>"
      ]
     },
     "metadata": {
      "needs_background": "light"
     },
     "output_type": "display_data"
    }
   ],
   "source": [
    "sns.scatterplot(x = \"REC YDS\", y = \"FPTS\", data = df2)"
   ]
  },
  {
   "cell_type": "code",
   "execution_count": 17,
   "id": "4629c397",
   "metadata": {},
   "outputs": [
    {
     "data": {
      "text/plain": [
       "<AxesSubplot:xlabel='REC TD', ylabel='FPTS'>"
      ]
     },
     "execution_count": 17,
     "metadata": {},
     "output_type": "execute_result"
    },
    {
     "data": {
      "image/png": "[encoded data removed]",
      "text/plain": [
       "<Figure size 432x288 with 1 Axes>"
      ]
     },
     "metadata": {
      "needs_background": "light"
     },
     "output_type": "display_data"
    }
   ],
   "source": [
    "sns.scatterplot(x = \"REC TD\", y = \"FPTS\", data = df2)"
   ]
  },
  {
   "cell_type": "code",
   "execution_count": 18,
   "id": "ae6836c5",
   "metadata": {},
   "outputs": [
    {
     "data": {
      "text/plain": [
       "<AxesSubplot:xlabel='TGTS', ylabel='FPTS'>"
      ]
     },
     "execution_count": 18,
     "metadata": {},
     "output_type": "execute_result"
    },
    {
     "data": {
      "image/png": "[encoded data removed]",
      "text/plain": [
       "<Figure size 432x288 with 1 Axes>"
      ]
     },
     "metadata": {
      "needs_background": "light"
     },
     "output_type": "display_data"
    }
   ],
   "source": [
    "sns.scatterplot(x = \"TGTS\", y = \"FPTS\", data = df2)"
   ]
  },
  {
   "cell_type": "code",
   "execution_count": 19,
   "id": "93d9d1ef",
   "metadata": {},
   "outputs": [
    {
     "data": {
      "text/plain": [
       "<AxesSubplot:xlabel='REC', ylabel='FPTS'>"
      ]
     },
     "execution_count": 19,
     "metadata": {},
     "output_type": "execute_result"
    },
    {
     "data": {
      "image/png": "[encoded data removed]",
      "text/plain": [
       "<Figure size 432x288 with 1 Axes>"
      ]
     },
     "metadata": {
      "needs_background": "light"
     },
     "output_type": "display_data"
    }
   ],
   "source": [
    "sns.scatterplot(x = \"REC\", y = \"FPTS\", data = df2)"
   ]
  },
  {
   "cell_type": "code",
   "execution_count": 20,
   "id": "35ffecaa",
   "metadata": {},
   "outputs": [
    {
     "data": {
      "text/html": [
       "<div>\n",
       "<style scoped>\n",
       "    .dataframe tbody tr th:only-of-type {\n",
       "        vertical-align: middle;\n",
       "    }\n",
       "\n",
       "    .dataframe tbody tr th {\n",
       "        vertical-align: top;\n",
       "    }\n",
       "\n",
       "    .dataframe thead th {\n",
       "        text-align: right;\n",
       "    }\n",
       "</style>\n",
       "<table border=\"1\" class=\"dataframe\">\n",
       "  <thead>\n",
       "    <tr style=\"text-align: right;\">\n",
       "      <th></th>\n",
       "      <th>FPTS</th>\n",
       "      <th>TGTS</th>\n",
       "      <th>REC</th>\n",
       "      <th>REC YDS</th>\n",
       "      <th>REC TD</th>\n",
       "      <th>YDS/REC</th>\n",
       "      <th>CATCH %</th>\n",
       "      <th>ATT</th>\n",
       "      <th>YDS</th>\n",
       "      <th>TD</th>\n",
       "      <th>YDS/ATT</th>\n",
       "    </tr>\n",
       "  </thead>\n",
       "  <tbody>\n",
       "    <tr>\n",
       "      <th>count</th>\n",
       "      <td>16.000000</td>\n",
       "      <td>16.000000</td>\n",
       "      <td>16.000000</td>\n",
       "      <td>16.000000</td>\n",
       "      <td>16.000000</td>\n",
       "      <td>16.000000</td>\n",
       "      <td>16.000000</td>\n",
       "      <td>16.000000</td>\n",
       "      <td>16.000000</td>\n",
       "      <td>16.0</td>\n",
       "      <td>16.000000</td>\n",
       "    </tr>\n",
       "    <tr>\n",
       "      <th>mean</th>\n",
       "      <td>15.906250</td>\n",
       "      <td>9.062500</td>\n",
       "      <td>6.500000</td>\n",
       "      <td>81.250000</td>\n",
       "      <td>0.750000</td>\n",
       "      <td>13.006250</td>\n",
       "      <td>72.087500</td>\n",
       "      <td>0.125000</td>\n",
       "      <td>0.312500</td>\n",
       "      <td>0.0</td>\n",
       "      <td>0.312500</td>\n",
       "    </tr>\n",
       "    <tr>\n",
       "      <th>std</th>\n",
       "      <td>7.453274</td>\n",
       "      <td>2.462214</td>\n",
       "      <td>2.065591</td>\n",
       "      <td>29.921007</td>\n",
       "      <td>1.183216</td>\n",
       "      <td>4.314853</td>\n",
       "      <td>16.296988</td>\n",
       "      <td>0.341565</td>\n",
       "      <td>1.014479</td>\n",
       "      <td>0.0</td>\n",
       "      <td>1.014479</td>\n",
       "    </tr>\n",
       "    <tr>\n",
       "      <th>min</th>\n",
       "      <td>5.600000</td>\n",
       "      <td>6.000000</td>\n",
       "      <td>4.000000</td>\n",
       "      <td>25.000000</td>\n",
       "      <td>0.000000</td>\n",
       "      <td>3.600000</td>\n",
       "      <td>44.400000</td>\n",
       "      <td>0.000000</td>\n",
       "      <td>0.000000</td>\n",
       "      <td>0.0</td>\n",
       "      <td>0.000000</td>\n",
       "    </tr>\n",
       "    <tr>\n",
       "      <th>25%</th>\n",
       "      <td>11.875000</td>\n",
       "      <td>8.000000</td>\n",
       "      <td>4.750000</td>\n",
       "      <td>56.750000</td>\n",
       "      <td>0.000000</td>\n",
       "      <td>10.425000</td>\n",
       "      <td>59.700000</td>\n",
       "      <td>0.000000</td>\n",
       "      <td>0.000000</td>\n",
       "      <td>0.0</td>\n",
       "      <td>0.000000</td>\n",
       "    </tr>\n",
       "    <tr>\n",
       "      <th>50%</th>\n",
       "      <td>15.350000</td>\n",
       "      <td>8.500000</td>\n",
       "      <td>6.000000</td>\n",
       "      <td>86.500000</td>\n",
       "      <td>0.000000</td>\n",
       "      <td>13.750000</td>\n",
       "      <td>73.200000</td>\n",
       "      <td>0.000000</td>\n",
       "      <td>0.000000</td>\n",
       "      <td>0.0</td>\n",
       "      <td>0.000000</td>\n",
       "    </tr>\n",
       "    <tr>\n",
       "      <th>75%</th>\n",
       "      <td>17.750000</td>\n",
       "      <td>10.000000</td>\n",
       "      <td>8.000000</td>\n",
       "      <td>106.500000</td>\n",
       "      <td>1.000000</td>\n",
       "      <td>15.400000</td>\n",
       "      <td>86.150000</td>\n",
       "      <td>0.000000</td>\n",
       "      <td>0.000000</td>\n",
       "      <td>0.0</td>\n",
       "      <td>0.000000</td>\n",
       "    </tr>\n",
       "    <tr>\n",
       "      <th>max</th>\n",
       "      <td>32.500000</td>\n",
       "      <td>17.000000</td>\n",
       "      <td>10.000000</td>\n",
       "      <td>121.000000</td>\n",
       "      <td>4.000000</td>\n",
       "      <td>19.200000</td>\n",
       "      <td>100.000000</td>\n",
       "      <td>1.000000</td>\n",
       "      <td>4.000000</td>\n",
       "      <td>0.0</td>\n",
       "      <td>4.000000</td>\n",
       "    </tr>\n",
       "  </tbody>\n",
       "</table>\n",
       "</div>"
      ],
      "text/plain": [
       "            FPTS       TGTS        REC     REC YDS     REC TD    YDS/REC  \\\n",
       "count  16.000000  16.000000  16.000000   16.000000  16.000000  16.000000   \n",
       "mean   15.906250   9.062500   6.500000   81.250000   0.750000  13.006250   \n",
       "std     7.453274   2.462214   2.065591   29.921007   1.183216   4.314853   \n",
       "min     5.600000   6.000000   4.000000   25.000000   0.000000   3.600000   \n",
       "25%    11.875000   8.000000   4.750000   56.750000   0.000000  10.425000   \n",
       "50%    15.350000   8.500000   6.000000   86.500000   0.000000  13.750000   \n",
       "75%    17.750000  10.000000   8.000000  106.500000   1.000000  15.400000   \n",
       "max    32.500000  17.000000  10.000000  121.000000   4.000000  19.200000   \n",
       "\n",
       "          CATCH %        ATT        YDS    TD    YDS/ATT  \n",
       "count   16.000000  16.000000  16.000000  16.0  16.000000  \n",
       "mean    72.087500   0.125000   0.312500   0.0   0.312500  \n",
       "std     16.296988   0.341565   1.014479   0.0   1.014479  \n",
       "min     44.400000   0.000000   0.000000   0.0   0.000000  \n",
       "25%     59.700000   0.000000   0.000000   0.0   0.000000  \n",
       "50%     73.200000   0.000000   0.000000   0.0   0.000000  \n",
       "75%     86.150000   0.000000   0.000000   0.0   0.000000  \n",
       "max    100.000000   1.000000   4.000000   0.0   4.000000  "
      ]
     },
     "execution_count": 20,
     "metadata": {},
     "output_type": "execute_result"
    }
   ],
   "source": [
    "df_tk = df2[df2['TEAM']=='KC']\n",
    "df_tk = df_tk[['NAME','TEAM','FPTS','TGTS','REC','REC YDS','REC TD','YDS/REC','CATCH %','ATT','YDS','TD','YDS/ATT']]\n",
    "df_tk.describe()"
   ]
  },
  {
   "cell_type": "code",
   "execution_count": 21,
   "id": "86064b94",
   "metadata": {},
   "outputs": [
    {
     "data": {
      "text/html": [
       "<div>\n",
       "<style scoped>\n",
       "    .dataframe tbody tr th:only-of-type {\n",
       "        vertical-align: middle;\n",
       "    }\n",
       "\n",
       "    .dataframe tbody tr th {\n",
       "        vertical-align: top;\n",
       "    }\n",
       "\n",
       "    .dataframe thead th {\n",
       "        text-align: right;\n",
       "    }\n",
       "</style>\n",
       "<table border=\"1\" class=\"dataframe\">\n",
       "  <thead>\n",
       "    <tr style=\"text-align: right;\">\n",
       "      <th></th>\n",
       "      <th>FPTS</th>\n",
       "      <th>TGTS</th>\n",
       "      <th>REC</th>\n",
       "      <th>REC YDS</th>\n",
       "      <th>REC TD</th>\n",
       "      <th>YDS/REC</th>\n",
       "      <th>CATCH %</th>\n",
       "      <th>ATT</th>\n",
       "      <th>YDS</th>\n",
       "      <th>TD</th>\n",
       "      <th>YDS/ATT</th>\n",
       "    </tr>\n",
       "  </thead>\n",
       "  <tbody>\n",
       "    <tr>\n",
       "      <th>count</th>\n",
       "      <td>15.000000</td>\n",
       "      <td>15.000000</td>\n",
       "      <td>15.000000</td>\n",
       "      <td>15.000000</td>\n",
       "      <td>15.000000</td>\n",
       "      <td>15.000000</td>\n",
       "      <td>15.000000</td>\n",
       "      <td>15.000000</td>\n",
       "      <td>15.000000</td>\n",
       "      <td>15.0</td>\n",
       "      <td>15.000000</td>\n",
       "    </tr>\n",
       "    <tr>\n",
       "      <th>mean</th>\n",
       "      <td>10.266667</td>\n",
       "      <td>7.533333</td>\n",
       "      <td>4.866667</td>\n",
       "      <td>56.466667</td>\n",
       "      <td>0.333333</td>\n",
       "      <td>10.593333</td>\n",
       "      <td>58.913333</td>\n",
       "      <td>0.200000</td>\n",
       "      <td>0.533333</td>\n",
       "      <td>0.0</td>\n",
       "      <td>0.533333</td>\n",
       "    </tr>\n",
       "    <tr>\n",
       "      <th>std</th>\n",
       "      <td>7.724235</td>\n",
       "      <td>2.875181</td>\n",
       "      <td>2.825058</td>\n",
       "      <td>34.473316</td>\n",
       "      <td>0.617213</td>\n",
       "      <td>3.569807</td>\n",
       "      <td>23.679131</td>\n",
       "      <td>0.414039</td>\n",
       "      <td>1.245946</td>\n",
       "      <td>0.0</td>\n",
       "      <td>1.245946</td>\n",
       "    </tr>\n",
       "    <tr>\n",
       "      <th>min</th>\n",
       "      <td>0.400000</td>\n",
       "      <td>2.000000</td>\n",
       "      <td>0.000000</td>\n",
       "      <td>0.000000</td>\n",
       "      <td>0.000000</td>\n",
       "      <td>0.000000</td>\n",
       "      <td>0.000000</td>\n",
       "      <td>0.000000</td>\n",
       "      <td>0.000000</td>\n",
       "      <td>0.0</td>\n",
       "      <td>0.000000</td>\n",
       "    </tr>\n",
       "    <tr>\n",
       "      <th>25%</th>\n",
       "      <td>4.700000</td>\n",
       "      <td>5.500000</td>\n",
       "      <td>3.000000</td>\n",
       "      <td>32.000000</td>\n",
       "      <td>0.000000</td>\n",
       "      <td>10.350000</td>\n",
       "      <td>50.000000</td>\n",
       "      <td>0.000000</td>\n",
       "      <td>0.000000</td>\n",
       "      <td>0.0</td>\n",
       "      <td>0.000000</td>\n",
       "    </tr>\n",
       "    <tr>\n",
       "      <th>50%</th>\n",
       "      <td>7.700000</td>\n",
       "      <td>7.000000</td>\n",
       "      <td>4.000000</td>\n",
       "      <td>52.000000</td>\n",
       "      <td>0.000000</td>\n",
       "      <td>11.100000</td>\n",
       "      <td>60.000000</td>\n",
       "      <td>0.000000</td>\n",
       "      <td>0.000000</td>\n",
       "      <td>0.0</td>\n",
       "      <td>0.000000</td>\n",
       "    </tr>\n",
       "    <tr>\n",
       "      <th>75%</th>\n",
       "      <td>16.700000</td>\n",
       "      <td>9.500000</td>\n",
       "      <td>7.500000</td>\n",
       "      <td>89.000000</td>\n",
       "      <td>0.500000</td>\n",
       "      <td>12.050000</td>\n",
       "      <td>73.200000</td>\n",
       "      <td>0.000000</td>\n",
       "      <td>0.000000</td>\n",
       "      <td>0.0</td>\n",
       "      <td>0.000000</td>\n",
       "    </tr>\n",
       "    <tr>\n",
       "      <th>max</th>\n",
       "      <td>24.900000</td>\n",
       "      <td>13.000000</td>\n",
       "      <td>9.000000</td>\n",
       "      <td>106.000000</td>\n",
       "      <td>2.000000</td>\n",
       "      <td>15.100000</td>\n",
       "      <td>100.000000</td>\n",
       "      <td>1.000000</td>\n",
       "      <td>4.000000</td>\n",
       "      <td>0.0</td>\n",
       "      <td>4.000000</td>\n",
       "    </tr>\n",
       "  </tbody>\n",
       "</table>\n",
       "</div>"
      ],
      "text/plain": [
       "            FPTS       TGTS        REC     REC YDS     REC TD    YDS/REC  \\\n",
       "count  15.000000  15.000000  15.000000   15.000000  15.000000  15.000000   \n",
       "mean   10.266667   7.533333   4.866667   56.466667   0.333333  10.593333   \n",
       "std     7.724235   2.875181   2.825058   34.473316   0.617213   3.569807   \n",
       "min     0.400000   2.000000   0.000000    0.000000   0.000000   0.000000   \n",
       "25%     4.700000   5.500000   3.000000   32.000000   0.000000  10.350000   \n",
       "50%     7.700000   7.000000   4.000000   52.000000   0.000000  11.100000   \n",
       "75%    16.700000   9.500000   7.500000   89.000000   0.500000  12.050000   \n",
       "max    24.900000  13.000000   9.000000  106.000000   2.000000  15.100000   \n",
       "\n",
       "          CATCH %        ATT        YDS    TD    YDS/ATT  \n",
       "count   15.000000  15.000000  15.000000  15.0  15.000000  \n",
       "mean    58.913333   0.200000   0.533333   0.0   0.533333  \n",
       "std     23.679131   0.414039   1.245946   0.0   1.245946  \n",
       "min      0.000000   0.000000   0.000000   0.0   0.000000  \n",
       "25%     50.000000   0.000000   0.000000   0.0   0.000000  \n",
       "50%     60.000000   0.000000   0.000000   0.0   0.000000  \n",
       "75%     73.200000   0.000000   0.000000   0.0   0.000000  \n",
       "max    100.000000   1.000000   4.000000   0.0   4.000000  "
      ]
     },
     "execution_count": 21,
     "metadata": {},
     "output_type": "execute_result"
    }
   ],
   "source": [
    "df_ma = df2[df2['TEAM']=='BAL']\n",
    "df_ma = df_ma[['NAME','TEAM','FPTS','TGTS','REC','REC YDS','REC TD','YDS/REC','CATCH %','ATT','YDS','TD','YDS/ATT']]\n",
    "df_ma.describe()"
   ]
  },
  {
   "cell_type": "code",
   "execution_count": 22,
   "id": "a9ec1c35",
   "metadata": {},
   "outputs": [
    {
     "data": {
      "text/html": [
       "<div>\n",
       "<style scoped>\n",
       "    .dataframe tbody tr th:only-of-type {\n",
       "        vertical-align: middle;\n",
       "    }\n",
       "\n",
       "    .dataframe tbody tr th {\n",
       "        vertical-align: top;\n",
       "    }\n",
       "\n",
       "    .dataframe thead th {\n",
       "        text-align: right;\n",
       "    }\n",
       "</style>\n",
       "<table border=\"1\" class=\"dataframe\">\n",
       "  <thead>\n",
       "    <tr style=\"text-align: right;\">\n",
       "      <th></th>\n",
       "      <th>FPTS</th>\n",
       "      <th>TGTS</th>\n",
       "      <th>REC</th>\n",
       "      <th>REC YDS</th>\n",
       "      <th>REC TD</th>\n",
       "      <th>YDS/REC</th>\n",
       "      <th>CATCH %</th>\n",
       "      <th>ATT</th>\n",
       "      <th>YDS</th>\n",
       "      <th>TD</th>\n",
       "      <th>YDS/ATT</th>\n",
       "    </tr>\n",
       "  </thead>\n",
       "  <tbody>\n",
       "    <tr>\n",
       "      <th>count</th>\n",
       "      <td>10.000000</td>\n",
       "      <td>10.00000</td>\n",
       "      <td>10.000000</td>\n",
       "      <td>10.000000</td>\n",
       "      <td>10.000000</td>\n",
       "      <td>10.000000</td>\n",
       "      <td>10.000000</td>\n",
       "      <td>10.0</td>\n",
       "      <td>10.0</td>\n",
       "      <td>10.0</td>\n",
       "      <td>10.0</td>\n",
       "    </tr>\n",
       "    <tr>\n",
       "      <th>mean</th>\n",
       "      <td>6.160000</td>\n",
       "      <td>5.90000</td>\n",
       "      <td>2.800000</td>\n",
       "      <td>35.600000</td>\n",
       "      <td>0.200000</td>\n",
       "      <td>12.850000</td>\n",
       "      <td>51.200000</td>\n",
       "      <td>0.0</td>\n",
       "      <td>0.0</td>\n",
       "      <td>0.0</td>\n",
       "      <td>0.0</td>\n",
       "    </tr>\n",
       "    <tr>\n",
       "      <th>std</th>\n",
       "      <td>4.713385</td>\n",
       "      <td>2.18327</td>\n",
       "      <td>1.316561</td>\n",
       "      <td>26.763159</td>\n",
       "      <td>0.421637</td>\n",
       "      <td>6.186589</td>\n",
       "      <td>24.308252</td>\n",
       "      <td>0.0</td>\n",
       "      <td>0.0</td>\n",
       "      <td>0.0</td>\n",
       "      <td>0.0</td>\n",
       "    </tr>\n",
       "    <tr>\n",
       "      <th>min</th>\n",
       "      <td>2.400000</td>\n",
       "      <td>3.00000</td>\n",
       "      <td>1.000000</td>\n",
       "      <td>9.000000</td>\n",
       "      <td>0.000000</td>\n",
       "      <td>3.000000</td>\n",
       "      <td>25.000000</td>\n",
       "      <td>0.0</td>\n",
       "      <td>0.0</td>\n",
       "      <td>0.0</td>\n",
       "      <td>0.0</td>\n",
       "    </tr>\n",
       "    <tr>\n",
       "      <th>25%</th>\n",
       "      <td>2.925000</td>\n",
       "      <td>4.25000</td>\n",
       "      <td>2.000000</td>\n",
       "      <td>19.000000</td>\n",
       "      <td>0.000000</td>\n",
       "      <td>9.500000</td>\n",
       "      <td>28.600000</td>\n",
       "      <td>0.0</td>\n",
       "      <td>0.0</td>\n",
       "      <td>0.0</td>\n",
       "      <td>0.0</td>\n",
       "    </tr>\n",
       "    <tr>\n",
       "      <th>50%</th>\n",
       "      <td>3.750000</td>\n",
       "      <td>6.00000</td>\n",
       "      <td>2.500000</td>\n",
       "      <td>26.000000</td>\n",
       "      <td>0.000000</td>\n",
       "      <td>13.750000</td>\n",
       "      <td>57.800000</td>\n",
       "      <td>0.0</td>\n",
       "      <td>0.0</td>\n",
       "      <td>0.0</td>\n",
       "      <td>0.0</td>\n",
       "    </tr>\n",
       "    <tr>\n",
       "      <th>75%</th>\n",
       "      <td>8.500000</td>\n",
       "      <td>7.75000</td>\n",
       "      <td>3.000000</td>\n",
       "      <td>39.250000</td>\n",
       "      <td>0.000000</td>\n",
       "      <td>15.575000</td>\n",
       "      <td>61.875000</td>\n",
       "      <td>0.0</td>\n",
       "      <td>0.0</td>\n",
       "      <td>0.0</td>\n",
       "      <td>0.0</td>\n",
       "    </tr>\n",
       "    <tr>\n",
       "      <th>max</th>\n",
       "      <td>16.500000</td>\n",
       "      <td>9.00000</td>\n",
       "      <td>5.000000</td>\n",
       "      <td>87.000000</td>\n",
       "      <td>1.000000</td>\n",
       "      <td>25.000000</td>\n",
       "      <td>100.000000</td>\n",
       "      <td>0.0</td>\n",
       "      <td>0.0</td>\n",
       "      <td>0.0</td>\n",
       "      <td>0.0</td>\n",
       "    </tr>\n",
       "  </tbody>\n",
       "</table>\n",
       "</div>"
      ],
      "text/plain": [
       "            FPTS      TGTS        REC    REC YDS     REC TD    YDS/REC  \\\n",
       "count  10.000000  10.00000  10.000000  10.000000  10.000000  10.000000   \n",
       "mean    6.160000   5.90000   2.800000  35.600000   0.200000  12.850000   \n",
       "std     4.713385   2.18327   1.316561  26.763159   0.421637   6.186589   \n",
       "min     2.400000   3.00000   1.000000   9.000000   0.000000   3.000000   \n",
       "25%     2.925000   4.25000   2.000000  19.000000   0.000000   9.500000   \n",
       "50%     3.750000   6.00000   2.500000  26.000000   0.000000  13.750000   \n",
       "75%     8.500000   7.75000   3.000000  39.250000   0.000000  15.575000   \n",
       "max    16.500000   9.00000   5.000000  87.000000   1.000000  25.000000   \n",
       "\n",
       "          CATCH %   ATT   YDS    TD  YDS/ATT  \n",
       "count   10.000000  10.0  10.0  10.0     10.0  \n",
       "mean    51.200000   0.0   0.0   0.0      0.0  \n",
       "std     24.308252   0.0   0.0   0.0      0.0  \n",
       "min     25.000000   0.0   0.0   0.0      0.0  \n",
       "25%     28.600000   0.0   0.0   0.0      0.0  \n",
       "50%     57.800000   0.0   0.0   0.0      0.0  \n",
       "75%     61.875000   0.0   0.0   0.0      0.0  \n",
       "max    100.000000   0.0   0.0   0.0      0.0  "
      ]
     },
     "execution_count": 22,
     "metadata": {},
     "output_type": "execute_result"
    }
   ],
   "source": [
    "df_kp = df2[df2['TEAM']=='ATL']\n",
    "df_kp = df_kp[['NAME','TEAM','FPTS','TGTS','REC','REC YDS','REC TD','YDS/REC','CATCH %','ATT','YDS','TD','YDS/ATT']]\n",
    "df_kp.describe()"
   ]
  },
  {
   "cell_type": "code",
   "execution_count": null,
   "id": "fb41cd49",
   "metadata": {},
   "outputs": [],
   "source": []
  }
 ],
 "metadata": {
  "kernelspec": {
   "display_name": "Python 3",
   "language": "python",
   "name": "python3"
  },
  "language_info": {
   "codemirror_mode": {
    "name": "ipython",
    "version": 3
   },
   "file_extension": ".py",
   "mimetype": "text/x-python",
   "name": "python",
   "nbconvert_exporter": "python",
   "pygments_lexer": "ipython3",
   "version": "3.8.8"
  }
 },
 "nbformat": 4,
 "nbformat_minor": 5
}
