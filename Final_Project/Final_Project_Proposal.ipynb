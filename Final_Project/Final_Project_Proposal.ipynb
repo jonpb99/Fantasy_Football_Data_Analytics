{
 "cells": [
  {
   "cell_type": "markdown",
   "id": "b7ef8765",
   "metadata": {},
   "source": [
    "# Final_Project_Proposal"
   ]
  },
  {
   "cell_type": "markdown",
   "id": "cc91cef7",
   "metadata": {},
   "source": [
    "Yudava Roopnarine\n",
    "\n",
    "Alejandro Mandujano\n",
    "\n",
    "Ishrat Amin\n",
    "\n",
    "Jonathan Bernard"
   ]
  },
  {
   "cell_type": "markdown",
   "id": "a85a64cc",
   "metadata": {},
   "source": [
    "Our final project involves fantasy football. Fantasy football is a game where players simulate the concept of managing a team of football players. Pseudo managers gather before a real-life football season and take turns drafting players from the NFL similar to a pick up basketball game in a park or a gym class. After this draft, each manager should have a team of fifteen players. While rules vary a bit from league to league, each manager should have at least one quarterback (QB), one tight end (TE), two running backs (RB), two wide receivers (WR), one kicker (K), and one defense (DEF), as they will need to start those players in each game. The other players are merely backup until the manager decides to replace a starter for any reason (injury, low performance, etc). Every week for about fourteen weeks (on average), each manager will face another manager in a game where points area determined by their players' performance. Points are determined by each player's statistics for that week. After the week is over, one team wins, another loses, and the managers matchup against other managers in a predetermined schedule similar to a real life football season. After fourteen weeks (on average), the top managers simulate a playoff tournament similar to a real life football season. At the end, one manager is crowned the winner, and he or she gets bragging rights, money (if agreed upon prior to the start), and maybe a trophy (for the really extravagant leagues). Then when the next season starts, they start all over again, usually drafting new players.\n",
    "\n",
    "Strategy is determined by finding players who perform the best. While during the season, you could always find new players to replace the ones you have, a big part of managers' strategy comes from drafting the right players prior to the season. Managers use stats from prior seasons to determined who they prefer to draft, and who they believe they can get in a later round. Various websites like https://fantasyfootball.theringer.com/ and https://football.fantasysports.yahoo.com/f1/draftanalysis?pos=ALL release speculative draft boards rating the best players each year. Each expert's draft board look very similar with a lot of small changes for various reasons. However, there is one thing that shows up on each draft board each year that's been pretty consistant: RBs are chosen very early and very often. While in the NFL, QBs are always coveted and are always the star of the team, they are a bit of an afterthought in fantasy football. Even though they score more fantasy points on average than RBs, managers rarely draft a QB with their first few picks, instead opting for other positions, especially RBs."
   ]
  },
  {
   "cell_type": "markdown",
   "id": "f133a062",
   "metadata": {},
   "source": [
    "- Why are RBs such a coveted position in fantasy football?\n",
    "- Why are QBs taken so late in fantasy drafts?\n",
    "- Is there another position that deserves more preference?"
   ]
  },
  {
   "cell_type": "markdown",
   "id": "7eb2d2a6",
   "metadata": {},
   "source": [
    "Our dataset is of the fantasy season from 2019. It was downloaded from https://www.fantasyfootballdatapros.com/csv_files . We posted the csv file to github and read it from there."
   ]
  },
  {
   "cell_type": "code",
   "execution_count": 1,
   "id": "20599d36",
   "metadata": {},
   "outputs": [
    {
     "data": {
      "text/html": [
       "<div>\n",
       "<style scoped>\n",
       "    .dataframe tbody tr th:only-of-type {\n",
       "        vertical-align: middle;\n",
       "    }\n",
       "\n",
       "    .dataframe tbody tr th {\n",
       "        vertical-align: top;\n",
       "    }\n",
       "\n",
       "    .dataframe thead th {\n",
       "        text-align: right;\n",
       "    }\n",
       "</style>\n",
       "<table border=\"1\" class=\"dataframe\">\n",
       "  <thead>\n",
       "    <tr style=\"text-align: right;\">\n",
       "      <th></th>\n",
       "      <th>Unnamed: 0</th>\n",
       "      <th>Player</th>\n",
       "      <th>Tm</th>\n",
       "      <th>Pos</th>\n",
       "      <th>Age</th>\n",
       "      <th>G</th>\n",
       "      <th>GS</th>\n",
       "      <th>Cmp</th>\n",
       "      <th>Att</th>\n",
       "      <th>Yds</th>\n",
       "      <th>...</th>\n",
       "      <th>FumblesLost</th>\n",
       "      <th>PassingYds</th>\n",
       "      <th>PassingTD</th>\n",
       "      <th>PassingAtt</th>\n",
       "      <th>RushingYds</th>\n",
       "      <th>RushingTD</th>\n",
       "      <th>RushingAtt</th>\n",
       "      <th>ReceivingYds</th>\n",
       "      <th>ReceivingTD</th>\n",
       "      <th>FantasyPoints</th>\n",
       "    </tr>\n",
       "  </thead>\n",
       "  <tbody>\n",
       "    <tr>\n",
       "      <th>0</th>\n",
       "      <td>0</td>\n",
       "      <td>Christian McCaffrey</td>\n",
       "      <td>CAR</td>\n",
       "      <td>RB</td>\n",
       "      <td>23.0</td>\n",
       "      <td>16.0</td>\n",
       "      <td>16.0</td>\n",
       "      <td>0.0</td>\n",
       "      <td>2.0</td>\n",
       "      <td>0.0</td>\n",
       "      <td>...</td>\n",
       "      <td>0.0</td>\n",
       "      <td>0.0</td>\n",
       "      <td>0.0</td>\n",
       "      <td>2.0</td>\n",
       "      <td>1387.0</td>\n",
       "      <td>15.0</td>\n",
       "      <td>287.0</td>\n",
       "      <td>1005.0</td>\n",
       "      <td>4.0</td>\n",
       "      <td>469.20</td>\n",
       "    </tr>\n",
       "    <tr>\n",
       "      <th>1</th>\n",
       "      <td>1</td>\n",
       "      <td>Lamar Jackson</td>\n",
       "      <td>BAL</td>\n",
       "      <td>QB</td>\n",
       "      <td>22.0</td>\n",
       "      <td>15.0</td>\n",
       "      <td>15.0</td>\n",
       "      <td>265.0</td>\n",
       "      <td>401.0</td>\n",
       "      <td>3127.0</td>\n",
       "      <td>...</td>\n",
       "      <td>2.0</td>\n",
       "      <td>3127.0</td>\n",
       "      <td>36.0</td>\n",
       "      <td>401.0</td>\n",
       "      <td>1206.0</td>\n",
       "      <td>7.0</td>\n",
       "      <td>176.0</td>\n",
       "      <td>0.0</td>\n",
       "      <td>0.0</td>\n",
       "      <td>415.68</td>\n",
       "    </tr>\n",
       "    <tr>\n",
       "      <th>2</th>\n",
       "      <td>2</td>\n",
       "      <td>Derrick Henry</td>\n",
       "      <td>TEN</td>\n",
       "      <td>RB</td>\n",
       "      <td>25.0</td>\n",
       "      <td>15.0</td>\n",
       "      <td>15.0</td>\n",
       "      <td>0.0</td>\n",
       "      <td>0.0</td>\n",
       "      <td>0.0</td>\n",
       "      <td>...</td>\n",
       "      <td>3.0</td>\n",
       "      <td>0.0</td>\n",
       "      <td>0.0</td>\n",
       "      <td>0.0</td>\n",
       "      <td>1540.0</td>\n",
       "      <td>16.0</td>\n",
       "      <td>303.0</td>\n",
       "      <td>206.0</td>\n",
       "      <td>2.0</td>\n",
       "      <td>294.60</td>\n",
       "    </tr>\n",
       "    <tr>\n",
       "      <th>3</th>\n",
       "      <td>3</td>\n",
       "      <td>Aaron Jones</td>\n",
       "      <td>GNB</td>\n",
       "      <td>RB</td>\n",
       "      <td>25.0</td>\n",
       "      <td>16.0</td>\n",
       "      <td>16.0</td>\n",
       "      <td>0.0</td>\n",
       "      <td>0.0</td>\n",
       "      <td>0.0</td>\n",
       "      <td>...</td>\n",
       "      <td>2.0</td>\n",
       "      <td>0.0</td>\n",
       "      <td>0.0</td>\n",
       "      <td>0.0</td>\n",
       "      <td>1084.0</td>\n",
       "      <td>16.0</td>\n",
       "      <td>236.0</td>\n",
       "      <td>474.0</td>\n",
       "      <td>3.0</td>\n",
       "      <td>314.80</td>\n",
       "    </tr>\n",
       "    <tr>\n",
       "      <th>4</th>\n",
       "      <td>4</td>\n",
       "      <td>Ezekiel Elliott</td>\n",
       "      <td>DAL</td>\n",
       "      <td>RB</td>\n",
       "      <td>24.0</td>\n",
       "      <td>16.0</td>\n",
       "      <td>16.0</td>\n",
       "      <td>0.0</td>\n",
       "      <td>0.0</td>\n",
       "      <td>0.0</td>\n",
       "      <td>...</td>\n",
       "      <td>2.0</td>\n",
       "      <td>0.0</td>\n",
       "      <td>0.0</td>\n",
       "      <td>0.0</td>\n",
       "      <td>1357.0</td>\n",
       "      <td>12.0</td>\n",
       "      <td>301.0</td>\n",
       "      <td>420.0</td>\n",
       "      <td>2.0</td>\n",
       "      <td>311.70</td>\n",
       "    </tr>\n",
       "  </tbody>\n",
       "</table>\n",
       "<p>5 rows × 28 columns</p>\n",
       "</div>"
      ],
      "text/plain": [
       "   Unnamed: 0               Player   Tm Pos   Age     G    GS    Cmp    Att  \\\n",
       "0           0  Christian McCaffrey  CAR  RB  23.0  16.0  16.0    0.0    2.0   \n",
       "1           1        Lamar Jackson  BAL  QB  22.0  15.0  15.0  265.0  401.0   \n",
       "2           2        Derrick Henry  TEN  RB  25.0  15.0  15.0    0.0    0.0   \n",
       "3           3          Aaron Jones  GNB  RB  25.0  16.0  16.0    0.0    0.0   \n",
       "4           4      Ezekiel Elliott  DAL  RB  24.0  16.0  16.0    0.0    0.0   \n",
       "\n",
       "      Yds  ...  FumblesLost  PassingYds  PassingTD  PassingAtt  RushingYds  \\\n",
       "0     0.0  ...          0.0         0.0        0.0         2.0      1387.0   \n",
       "1  3127.0  ...          2.0      3127.0       36.0       401.0      1206.0   \n",
       "2     0.0  ...          3.0         0.0        0.0         0.0      1540.0   \n",
       "3     0.0  ...          2.0         0.0        0.0         0.0      1084.0   \n",
       "4     0.0  ...          2.0         0.0        0.0         0.0      1357.0   \n",
       "\n",
       "   RushingTD  RushingAtt  ReceivingYds  ReceivingTD  FantasyPoints  \n",
       "0       15.0       287.0        1005.0          4.0         469.20  \n",
       "1        7.0       176.0           0.0          0.0         415.68  \n",
       "2       16.0       303.0         206.0          2.0         294.60  \n",
       "3       16.0       236.0         474.0          3.0         314.80  \n",
       "4       12.0       301.0         420.0          2.0         311.70  \n",
       "\n",
       "[5 rows x 28 columns]"
      ]
     },
     "execution_count": 1,
     "metadata": {},
     "output_type": "execute_result"
    }
   ],
   "source": [
    "import numpy as np\n",
    "import pandas as pd\n",
    "import re\n",
    "import seaborn as sns\n",
    "import matplotlib.pyplot as plt\n",
    "\n",
    "df = pd.read_csv('https://raw.githubusercontent.com/jonpb99/Data_Analytics_List_Comprehension/main/2019.csv')\n",
    "df.head()"
   ]
  },
  {
   "cell_type": "code",
   "execution_count": 2,
   "id": "c8308fbd",
   "metadata": {},
   "outputs": [
    {
     "name": "stdout",
     "output_type": "stream",
     "text": [
      "<class 'pandas.core.frame.DataFrame'>\n",
      "RangeIndex: 620 entries, 0 to 619\n",
      "Data columns (total 28 columns):\n",
      " #   Column         Non-Null Count  Dtype  \n",
      "---  ------         --------------  -----  \n",
      " 0   Unnamed: 0     620 non-null    int64  \n",
      " 1   Player         620 non-null    object \n",
      " 2   Tm             620 non-null    object \n",
      " 3   Pos            620 non-null    object \n",
      " 4   Age            620 non-null    float64\n",
      " 5   G              620 non-null    float64\n",
      " 6   GS             620 non-null    float64\n",
      " 7   Cmp            620 non-null    float64\n",
      " 8   Att            620 non-null    float64\n",
      " 9   Yds            620 non-null    float64\n",
      " 10  Int            620 non-null    float64\n",
      " 11  Att.1          620 non-null    float64\n",
      " 12  Yds.1          620 non-null    float64\n",
      " 13  Tgt            620 non-null    float64\n",
      " 14  Rec            620 non-null    float64\n",
      " 15  Yds.2          620 non-null    float64\n",
      " 16  Y/R            620 non-null    float64\n",
      " 17  Fumbles        620 non-null    float64\n",
      " 18  FumblesLost    620 non-null    float64\n",
      " 19  PassingYds     620 non-null    float64\n",
      " 20  PassingTD      620 non-null    float64\n",
      " 21  PassingAtt     620 non-null    float64\n",
      " 22  RushingYds     620 non-null    float64\n",
      " 23  RushingTD      620 non-null    float64\n",
      " 24  RushingAtt     620 non-null    float64\n",
      " 25  ReceivingYds   620 non-null    float64\n",
      " 26  ReceivingTD    620 non-null    float64\n",
      " 27  FantasyPoints  620 non-null    float64\n",
      "dtypes: float64(24), int64(1), object(3)\n",
      "memory usage: 135.8+ KB\n",
      "None\n"
     ]
    }
   ],
   "source": [
    "print(df.info())"
   ]
  },
  {
   "cell_type": "markdown",
   "id": "8c403f1e",
   "metadata": {},
   "source": [
    "The dataset does not contain any nulls. However, it does contain a postion that doesn't exist. Also, the kicker and defense positions are excluded from the original dataset, but that is intentional as they play almost no role in a strategic draft. We plan to show why RBs are the most coveted position in fantasy football despite the QB position usually averaging more points as seen below:"
   ]
  },
  {
   "cell_type": "code",
   "execution_count": 3,
   "id": "dbb0cb29",
   "metadata": {},
   "outputs": [
    {
     "data": {
      "text/plain": [
       "<AxesSubplot:xlabel='Pos', ylabel='FantasyPoints'>"
      ]
     },
     "execution_count": 3,
     "metadata": {},
     "output_type": "execute_result"
    },
    {
     "data": {
      "image/png": "[encoded data removed]",
      "text/plain": [
       "<Figure size 432x288 with 1 Axes>"
      ]
     },
     "metadata": {
      "needs_background": "light"
     },
     "output_type": "display_data"
    }
   ],
   "source": [
    "sns.boxplot(x=\"Pos\", y=\"FantasyPoints\", data=df)"
   ]
  }
 ],
 "metadata": {
  "kernelspec": {
   "display_name": "Python 3",
   "language": "python",
   "name": "python3"
  },
  "language_info": {
   "codemirror_mode": {
    "name": "ipython",
    "version": 3
   },
   "file_extension": ".py",
   "mimetype": "text/x-python",
   "name": "python",
   "nbconvert_exporter": "python",
   "pygments_lexer": "ipython3",
   "version": "3.8.8"
  }
 },
 "nbformat": 4,
 "nbformat_minor": 5
}
